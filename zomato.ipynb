{
  "nbformat": 4,
  "nbformat_minor": 0,
  "metadata": {
    "colab": {
      "name": "Copy of Untitled3.ipynb",
      "provenance": []
    },
    "kernelspec": {
      "name": "python3",
      "display_name": "Python 3"
    },
    "language_info": {
      "name": "python"
    }
  },
  "cells": [
    {
      "cell_type": "code",
      "metadata": {
        "id": "ITff6255VKLf"
      },
      "source": [
        "import pandas as pd"
      ],
      "execution_count": null,
      "outputs": []
    },
    {
      "cell_type": "code",
      "metadata": {
        "id": "SLN-3KAxV6Sb"
      },
      "source": [
        "df1 = pd.read_csv('training_data.csv')\n",
        "df0 = pd.read_csv('empire1.csv')"
      ],
      "execution_count": null,
      "outputs": []
    },
    {
      "cell_type": "code",
      "metadata": {
        "colab": {
          "base_uri": "https://localhost:8080/"
        },
        "id": "Y9yCHhOpV6gB",
        "outputId": "a4e31db9-eeb1-4c3c-b7eb-70ee60d9ac25"
      },
      "source": [
        "df1.shape,df0.shape\n"
      ],
      "execution_count": null,
      "outputs": [
        {
          "output_type": "execute_result",
          "data": {
            "text/plain": [
              "((108, 3), (30, 3))"
            ]
          },
          "metadata": {},
          "execution_count": 3
        }
      ]
    },
    {
      "cell_type": "code",
      "metadata": {
        "id": "F2DYG3vlV6kF"
      },
      "source": [
        "import nltk\n",
        "import re\n",
        "from nltk.corpus import stopwords\n",
        "from nltk.stem.porter import PorterStemmer"
      ],
      "execution_count": null,
      "outputs": []
    },
    {
      "cell_type": "code",
      "metadata": {
        "colab": {
          "base_uri": "https://localhost:8080/",
          "height": 204
        },
        "id": "6q_2u97qV6og",
        "outputId": "956ae359-3dac-4c47-ff6d-7ea8bcd40de0"
      },
      "source": [
        "df1.head()"
      ],
      "execution_count": null,
      "outputs": [
        {
          "output_type": "execute_result",
          "data": {
            "text/html": [
              "<div>\n",
              "<style scoped>\n",
              "    .dataframe tbody tr th:only-of-type {\n",
              "        vertical-align: middle;\n",
              "    }\n",
              "\n",
              "    .dataframe tbody tr th {\n",
              "        vertical-align: top;\n",
              "    }\n",
              "\n",
              "    .dataframe thead th {\n",
              "        text-align: right;\n",
              "    }\n",
              "</style>\n",
              "<table border=\"1\" class=\"dataframe\">\n",
              "  <thead>\n",
              "    <tr style=\"text-align: right;\">\n",
              "      <th></th>\n",
              "      <th>id</th>\n",
              "      <th>label</th>\n",
              "      <th>review</th>\n",
              "    </tr>\n",
              "  </thead>\n",
              "  <tbody>\n",
              "    <tr>\n",
              "      <th>0</th>\n",
              "      <td>1</td>\n",
              "      <td>0</td>\n",
              "      <td>Food was very tasty, awesome ambiance and happ...</td>\n",
              "    </tr>\n",
              "    <tr>\n",
              "      <th>1</th>\n",
              "      <td>2</td>\n",
              "      <td>0</td>\n",
              "      <td>The ambience is very good. Inder Kumar provide...</td>\n",
              "    </tr>\n",
              "    <tr>\n",
              "      <th>2</th>\n",
              "      <td>3</td>\n",
              "      <td>1</td>\n",
              "      <td>lazy service, just ambiance is good.</td>\n",
              "    </tr>\n",
              "    <tr>\n",
              "      <th>3</th>\n",
              "      <td>4</td>\n",
              "      <td>1</td>\n",
              "      <td>It pains my heart that 1 is the minimum rating.</td>\n",
              "    </tr>\n",
              "    <tr>\n",
              "      <th>4</th>\n",
              "      <td>5</td>\n",
              "      <td>0</td>\n",
              "      <td>service is very nice. SOFT behavior. overall l...</td>\n",
              "    </tr>\n",
              "  </tbody>\n",
              "</table>\n",
              "</div>"
            ],
            "text/plain": [
              "   id  label                                             review\n",
              "0   1      0  Food was very tasty, awesome ambiance and happ...\n",
              "1   2      0  The ambience is very good. Inder Kumar provide...\n",
              "2   3      1               lazy service, just ambiance is good.\n",
              "3   4      1    It pains my heart that 1 is the minimum rating.\n",
              "4   5      0  service is very nice. SOFT behavior. overall l..."
            ]
          },
          "metadata": {},
          "execution_count": 5
        }
      ]
    },
    {
      "cell_type": "code",
      "metadata": {
        "id": "Wd9PnwjPXJbQ"
      },
      "source": [
        "messages1 = df1.copy()\n",
        "messages0 = df0.copy()"
      ],
      "execution_count": null,
      "outputs": []
    },
    {
      "cell_type": "code",
      "metadata": {
        "id": "OG-mYEVRXJj5"
      },
      "source": [
        "# stemming train dataset\n",
        "ps = PorterStemmer()\n",
        "corpus1 = []\n",
        "for i in range(0, len(messages1)):\n",
        "    review1 = re.sub('[^a-zA-Z]', ' ', messages1['review'][i])\n",
        "    review1 = review1.lower()\n",
        "    review1 = review1.split()\n",
        "    \n",
        "    review1 = [ps.stem(word1) for word1 in review1 if not word1 in stopwords.words('english')]\n",
        "    review1 = ' '.join(review1)\n",
        "    corpus1.append(review1)"
      ],
      "execution_count": null,
      "outputs": []
    },
    {
      "cell_type": "code",
      "metadata": {
        "colab": {
          "base_uri": "https://localhost:8080/"
        },
        "id": "5sKZFz2XXJth",
        "outputId": "c8179820-5e4c-4940-94d1-a8cd668bcbc9"
      },
      "source": [
        "import nltk\n",
        "nltk.download('stopwords')"
      ],
      "execution_count": null,
      "outputs": [
        {
          "output_type": "stream",
          "name": "stdout",
          "text": [
            "[nltk_data] Downloading package stopwords to /root/nltk_data...\n",
            "[nltk_data]   Package stopwords is already up-to-date!\n"
          ]
        },
        {
          "output_type": "execute_result",
          "data": {
            "text/plain": [
              "True"
            ]
          },
          "metadata": {},
          "execution_count": 8
        }
      ]
    },
    {
      "cell_type": "code",
      "metadata": {
        "id": "m3fYHhniXJ2h"
      },
      "source": [
        "# stemming test dataset\n",
        "corpus0 = []\n",
        "for i in range(0, len(messages0)):\n",
        "    review0 = re.sub('[^a-zA-Z]', ' ', messages0['review'][i])\n",
        "    review0 = review0.lower()\n",
        "    review0 = review0.split()\n",
        "    \n",
        "    review0 = [ps.stem(word0) for word0 in review0 if not word0 in stopwords.words('english')]\n",
        "    review0 = ' '.join(review0)\n",
        "    corpus0.append(review0)"
      ],
      "execution_count": null,
      "outputs": []
    },
    {
      "cell_type": "code",
      "metadata": {
        "id": "tptgrXMiX5AY"
      },
      "source": [
        "# bag of words\n",
        "from sklearn.feature_extraction.text import CountVectorizer\n",
        "cv = CountVectorizer(max_features = 130)\n",
        "X = cv.fit_transform(corpus1).toarray()\n",
        "test0 = cv.fit_transform(corpus0).toarray()"
      ],
      "execution_count": null,
      "outputs": []
    },
    {
      "cell_type": "code",
      "metadata": {
        "colab": {
          "base_uri": "https://localhost:8080/"
        },
        "id": "lFethyoZX5Sf",
        "outputId": "0cb22a39-50ad-4168-f11d-0eb3963eac3a"
      },
      "source": [
        "test0"
      ],
      "execution_count": null,
      "outputs": [
        {
          "output_type": "execute_result",
          "data": {
            "text/plain": [
              "array([[0, 0, 0, ..., 0, 0, 0],\n",
              "       [0, 0, 0, ..., 0, 0, 0],\n",
              "       [0, 0, 0, ..., 0, 0, 0],\n",
              "       ...,\n",
              "       [0, 0, 0, ..., 0, 0, 1],\n",
              "       [0, 0, 1, ..., 0, 0, 0],\n",
              "       [1, 0, 0, ..., 0, 0, 0]])"
            ]
          },
          "metadata": {},
          "execution_count": 11
        }
      ]
    },
    {
      "cell_type": "code",
      "metadata": {
        "id": "l66foFMcX5em"
      },
      "source": [
        "Y = messages1['label'].values"
      ],
      "execution_count": null,
      "outputs": []
    },
    {
      "cell_type": "code",
      "metadata": {
        "id": "wKAf-HbqX5mc"
      },
      "source": [
        "# train-test split\n",
        "from sklearn.model_selection import train_test_split\n",
        "x_train , x_test , y_train , y_test = train_test_split(X, Y , test_size = 0.20 ,random_state = 0)"
      ],
      "execution_count": null,
      "outputs": []
    },
    {
      "cell_type": "code",
      "metadata": {
        "id": "Px0DGoPMX55D"
      },
      "source": [
        "from sklearn.naive_bayes import MultinomialNB\n",
        "model1 = MultinomialNB().fit(x_train , y_train)\n",
        "ypred1 = model1.predict(x_test)"
      ],
      "execution_count": null,
      "outputs": []
    },
    {
      "cell_type": "code",
      "metadata": {
        "id": "BO7wID4FYLg3"
      },
      "source": [
        "ypred0 = model1.predict(test0)"
      ],
      "execution_count": null,
      "outputs": []
    },
    {
      "cell_type": "code",
      "metadata": {
        "colab": {
          "base_uri": "https://localhost:8080/"
        },
        "id": "Esco66HrYLl6",
        "outputId": "533508a7-a37d-4012-d541-173af71ae9ea"
      },
      "source": [
        "print (ypred0)"
      ],
      "execution_count": null,
      "outputs": [
        {
          "output_type": "stream",
          "name": "stdout",
          "text": [
            "[1 0 1 1 1 0 1 0 0 1 0 1 1 0 0 0 0 0 0 1 1 0 0 0 0 0 1 0 0 0]\n"
          ]
        }
      ]
    },
    {
      "cell_type": "code",
      "metadata": {
        "id": "nPBqvLn_YLra"
      },
      "source": [
        "output_df = pd.DataFrame({'id' : df1['id'].values })\n",
        "output_df = pd.DataFrame({'reviews' : df0['review']})\n",
        "output_df['label'] = ypred0"
      ],
      "execution_count": null,
      "outputs": []
    },
    {
      "cell_type": "code",
      "metadata": {
        "id": "x6gRwxrOcQFA"
      },
      "source": [
        "output_df.to_csv('Prediction.csv', index = False)"
      ],
      "execution_count": null,
      "outputs": []
    },
    {
      "cell_type": "code",
      "metadata": {
        "colab": {
          "base_uri": "https://localhost:8080/"
        },
        "id": "pwONOwzgdEmN",
        "outputId": "b8eed4be-2613-498d-f684-b8d91c97406c"
      },
      "source": [
        "rf_accuracy1 = round(model1.score(x_train,y_train),2)\n",
        "rf_accuracy1"
      ],
      "execution_count": null,
      "outputs": [
        {
          "output_type": "execute_result",
          "data": {
            "text/plain": [
              "0.95"
            ]
          },
          "metadata": {},
          "execution_count": 19
        }
      ]
    },
    {
      "cell_type": "code",
      "metadata": {
        "colab": {
          "base_uri": "https://localhost:8080/"
        },
        "id": "l6PeoVCMkQiB",
        "outputId": "fef8062a-79da-4a2a-bb2e-25c448c7f49d"
      },
      "source": [
        "rf_accuracy2 = round(model1.score(x_test,y_test),2)\n",
        "rf_accuracy2"
      ],
      "execution_count": null,
      "outputs": [
        {
          "output_type": "execute_result",
          "data": {
            "text/plain": [
              "0.82"
            ]
          },
          "metadata": {},
          "execution_count": 20
        }
      ]
    }
  ]
}